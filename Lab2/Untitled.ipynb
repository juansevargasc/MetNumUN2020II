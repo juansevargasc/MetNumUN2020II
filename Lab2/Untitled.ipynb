{
 "cells": [
  {
   "cell_type": "code",
   "execution_count": 1,
   "metadata": {},
   "outputs": [],
   "source": [
    "import numpy as np"
   ]
  },
  {
   "cell_type": "code",
   "execution_count": 3,
   "metadata": {},
   "outputs": [],
   "source": [
    "v1 = np.array([1, 2 , 3])\n",
    "v2 = np.array([4, 5 , 6])\n",
    "v3 = np.array([7, 8 , 9])\n",
    "\n",
    "M = np.vstack([v1, v2, v3])\n",
    "\n",
    "v = np.array( [ [1], [2], [3] ] )"
   ]
  },
  {
   "cell_type": "code",
   "execution_count": 7,
   "metadata": {},
   "outputs": [
    {
     "name": "stdout",
     "output_type": "stream",
     "text": [
      "M:  [[1 2 3]\n",
      " [4 5 6]\n",
      " [7 8 9]] \n",
      " v:  [[1]\n",
      " [2]\n",
      " [3]]\n",
      "\n",
      "M / v: \n",
      "[[1.         2.         3.        ]\n",
      " [2.         2.5        3.        ]\n",
      " [2.33333333 2.66666667 3.        ]]\n"
     ]
    }
   ],
   "source": [
    "print(\"M: \", M, \"\\n v: \", v)\n",
    "print(\"\")\n",
    "\n",
    "print(\"M / v: \")\n",
    "print(M/v)"
   ]
  },
  {
   "cell_type": "code",
   "execution_count": null,
   "metadata": {},
   "outputs": [],
   "source": [
    "v1 = np.array([1, 2 , 3])\n",
    "v2 = np.array([4, 5 , 6])\n",
    "v3 = np.array([7, 8 , 9])\n",
    "\n",
    "M = np.vstack([v1, v2, v3])\n",
    "\n",
    "w = np.array( [ [1], [2], [3] ] )"
   ]
  },
  {
   "cell_type": "code",
   "execution_count": null,
   "metadata": {},
   "outputs": [],
   "source": [
    "print(\"M: \", M, \"\\n w: \", w)\n",
    "print(\"\")\n",
    "\n",
    "print(\"M / w: \")\n",
    "print(M/w)"
   ]
  }
 ],
 "metadata": {
  "kernelspec": {
   "display_name": "Python 3",
   "language": "python",
   "name": "python3"
  },
  "language_info": {
   "codemirror_mode": {
    "name": "ipython",
    "version": 3
   },
   "file_extension": ".py",
   "mimetype": "text/x-python",
   "name": "python",
   "nbconvert_exporter": "python",
   "pygments_lexer": "ipython3",
   "version": "3.8.3"
  }
 },
 "nbformat": 4,
 "nbformat_minor": 4
}
